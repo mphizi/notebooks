{
 "cells": [
  {
   "cell_type": "markdown",
   "id": "251d5274-f4cc-45c8-a0df-945adeed5dcb",
   "metadata": {},
   "source": [
    "# A minimal version of asprin\n",
    "\n",
    "The goal of this project is to implement a minimal version of the system *asprin*.\n",
    "\n",
    "Before you start, we recommend you to read sections 4 and 5 of the paper [1], and \n",
    "do the following little project on multi-shot solving:\n",
    "* [../multi-shot-shell/multi-shot-shell.ipynb](../multi-shot-shell/multi-shot-shell.ipynb)\n",
    "\n",
    "We introduce *asprin* below, but if you are interested, you can find more information at:\n",
    "* the paper [2]\n",
    "* the repository https://github.com/potassco/asprin\n",
    "* these [slides](https://github.com/potassco/asprin/releases/download/v1/asprin-slides-btw17.pdf)\n",
    "* the [Potassco Guide](https://github.com/potassco/guide/releases/download/v2.2.0/guide.pdf)\n",
    "\n",
    "\n",
    "[1] [Kaminski, R., Romero, J., Schaub, T., & Wanko, P. (2023). How to Build Your Own ASP-based System?! Theory Pract. Log. Program., 23(1), 299–361.](https://www.cs.uni-potsdam.de/wv/publications/DBLP_journals/tplp/KaminskiRSW23.pdf)\n",
    "\n",
    "[2] [Brewka, G., Delgrande, J. P., Romero, J., & Schaub, T. (2023). A general framework for preferences in answer set programming. Artif. Intell., 325, 104023.](https://www.cs.uni-potsdam.de/wv/publications/DBLP_journals/ai/BrewkaDRS23.pdf) "
   ]
  },
  {
   "cell_type": "markdown",
   "id": "3bf87142-7096-4277-9780-5894b178bad4",
   "metadata": {},
   "source": [
    "# Clingo with optimization statements \n",
    "\n",
    "In *clingo* we can write logic programs with optimization statements and compute their optimal answer sets.\n",
    "\n",
    "The following *clingo* program:"
   ]
  },
  {
   "cell_type": "code",
   "execution_count": 52,
   "id": "c68006dc-9f5d-47f1-9dc3-d9f45457e0bb",
   "metadata": {},
   "outputs": [
    {
     "name": "stdout",
     "output_type": "stream",
     "text": [
      "Overwriting example1.lp\n"
     ]
    }
   ],
   "source": [
    "%%file example1.lp\n",
    "dom(1..2).\n",
    "1 { a(X) : dom(X) }.\n",
    "#show a/1."
   ]
  },
  {
   "cell_type": "markdown",
   "id": "d31ef135-1507-48c5-8d62-6b6cbb36f4be",
   "metadata": {},
   "source": [
    "has 3 answer sets: `{a(1)}`, `{a(2)}` and `{a(1),a(2)}`:"
   ]
  },
  {
   "cell_type": "code",
   "execution_count": 66,
   "id": "ff69e3bc-16d0-4b73-a3e6-9480c5503ab5",
   "metadata": {},
   "outputs": [
    {
     "name": "stdout",
     "output_type": "stream",
     "text": [
      "a(2)\n",
      "a(1)\n",
      "a(1) a(2)\n",
      "SATISFIABLE\n"
     ]
    }
   ],
   "source": [
    "! clingo example1.lp 0 -V0"
   ]
  },
  {
   "cell_type": "markdown",
   "id": "e9868545-e2b4-4180-95e8-a6b9e5aed58a",
   "metadata": {},
   "source": [
    "If we add a minimize statement:"
   ]
  },
  {
   "cell_type": "code",
   "execution_count": 54,
   "id": "8b54de41-ded0-48e4-aa50-0ec70b26d7ca",
   "metadata": {},
   "outputs": [
    {
     "name": "stdout",
     "output_type": "stream",
     "text": [
      "Overwriting minimize.lp\n"
     ]
    }
   ],
   "source": [
    "%%file minimize.lp\n",
    "#minimize{ 1,X : a(X) }."
   ]
  },
  {
   "cell_type": "markdown",
   "id": "2fe7f8c0-4472-47c0-a5f4-3263321e0c98",
   "metadata": {},
   "source": [
    "then the resulting program has 2 **optimal** answer sets: `{a(1)}` and `{a(2)}`:"
   ]
  },
  {
   "cell_type": "code",
   "execution_count": 55,
   "id": "c97d81c0-ed30-420a-8868-72ca15ec794e",
   "metadata": {},
   "outputs": [
    {
     "name": "stdout",
     "output_type": "stream",
     "text": [
      "a(2)\n",
      "Optimization: 1\n",
      "a(1)\n",
      "Optimization: 1\n",
      "OPTIMUM FOUND\n"
     ]
    }
   ],
   "source": [
    "! clingo example1.lp minimize.lp --opt-mode=optN 0 -V0 --quiet=1"
   ]
  },
  {
   "cell_type": "markdown",
   "id": "e8248ea8-56e1-4fde-996b-6265e3c94deb",
   "metadata": {},
   "source": [
    "Here, option `--quiet=1` tells clingo to print only the optimal answer sets."
   ]
  },
  {
   "cell_type": "markdown",
   "id": "d7f89c41-7e36-4e9b-a893-851031ead86c",
   "metadata": {},
   "source": [
    "#### Formalities\n",
    "\n",
    "A *clingo* program with minimize statements can be seen as a pair of:\n",
    "* a logic program $P$\n",
    "* a minimize statement $M$\n",
    "\n",
    "Let $\\mathcal{A}$ be the set of (ground) atoms occurring in the ground instantiation of $P$.\n",
    "\n",
    "The minimize statement $M$ declares an irreflexive and transitive relation $\\succ_M \\subseteq \\mathcal{A}\\times\\mathcal{A}$ \n",
    "(also called a [strict partial order](https://en.wikipedia.org/wiki/Partially_ordered_set#strict_partial_order)) where\n",
    "* $X \\succ_M Y$ if the weight of $X$ according to $M$ is less than the weight of $Y$ according to $M$\n",
    "\n",
    "If $X \\succ_M Y$ we say that $X$ is *better* than $Y$ wrt $M$.\n",
    "  \n",
    "Then, a set of atoms $X$ is an optimal answer set of $P$ and $M$ if:\n",
    "* $X$ is an answer set of $P$, and\n",
    "* there is no answer set $Y$ of $P$ such that $Y \\succ_M X$\n",
    "\n",
    "In our example:\n",
    "* the set $\\mathcal{A}$ is `{a(1),a(2)}`,\n",
    "* the logic program $P$ has three answer sets `{a(1)}`, `{a(2)}` and `{a(1),a(2)}`,\n",
    "* the minimize statement declares the strict partial order where:\n",
    "  - `{}`$\\succ_M$ `{a(1)}`, `{}`$\\succ_M$ `{a(2)}`, `{}`$\\succ_M$ `{a(1),a(2)}`,\n",
    "  - `{a(1)}`$\\succ_M$ `{a(1),a(2)}`,\n",
    "  - `{a(2)}`$\\succ_M$ `{a(1),a(2)}`, and\n",
    "* the answer set `{a(1),a(2)}` is not optimal because both `{a(1)}` and `{a(2)}` are answer sets better than `{a(1),a(2)}` wrt $M$,\n",
    "* while `{a(1)}` and `{a(2)}` are optimal answer sets because there is no answer set better than them (since `{}` is not an answer set)."
   ]
  },
  {
   "cell_type": "markdown",
   "id": "13f66e66-005a-419a-ad06-0c8a6a5a1b21",
   "metadata": {},
   "source": [
    "# The ASP system *asprin*\n",
    "\n",
    "The system *asprin* extends *clingo* by preference specifications, \n",
    "allowing more general optimization statements: subset preferences, conditional prefereces, their combination, and much more...\n",
    "\n",
    "Comparing both systems:\n",
    "* in *clingo* we can write logic programs with *optimization statements* and compute their optimal answer sets, while\n",
    "* in *asprin* we can write logic programs with *preference specifications* and compute their optimal answer sets.\n",
    "\n",
    "A nice feature of *asprin* is that we can define new types of preferences simply writing a logic program."
   ]
  },
  {
   "cell_type": "markdown",
   "id": "789df7c6-9668-4671-94e2-490899387487",
   "metadata": {},
   "source": [
    "#### Formalities\n",
    "\n",
    "An *asprin* program can be seen as a pair of:\n",
    "* a logic program $P$\n",
    "* a preference specification $S$\n",
    "\n",
    "where now $S$ declares the irreflexive and transitive relation $\\succ_S \\subseteq \\mathcal{A}\\times\\mathcal{A}$.\n",
    "\n",
    "Optimal answer sets are defined just as above. \n",
    "\n",
    "A set of atoms $X$ is an optimal answer set of $P$ and $S$ if:\n",
    "* $X$ is an answer set of $P$, and\n",
    "* there is no answer set $Y$ of $P$ such that $Y \\succ_S X$"
   ]
  },
  {
   "cell_type": "markdown",
   "id": "57e2db0c-f6ec-49f8-be9e-fb2d58e231f9",
   "metadata": {},
   "source": [
    "### The same example in *asprin*"
   ]
  },
  {
   "cell_type": "markdown",
   "id": "cea766ff-f596-4b6a-aba8-ac80744209d6",
   "metadata": {},
   "source": [
    "In asprin, instead of the previous minimize statement, we can write this *preference specification*:"
   ]
  },
  {
   "cell_type": "code",
   "execution_count": 28,
   "id": "b54fd73f-2073-4c30-899d-9a9b138a0976",
   "metadata": {},
   "outputs": [
    {
     "name": "stdout",
     "output_type": "stream",
     "text": [
      "Overwriting preference1.lp\n"
     ]
    }
   ],
   "source": [
    "%%file preference1.lp\n",
    "#preference(p1,less(weight)) { 1,X :: a(X) : dom(X) }.\n",
    "#optimize(p1)."
   ]
  },
  {
   "cell_type": "markdown",
   "id": "8c77c3c3-a39c-41fd-bd13-2ef799f08aa8",
   "metadata": {},
   "source": [
    "The **first line** says that the preference statement `p1` is of type `less(weight)` and has the preference element `1,X :: a(X) : dom(X)`.\n",
    "\n",
    "This statement declares the strict partial order $\\succ_{\\texttt{p1}}$, \n",
    "that is the same as the order declared by the minimize statement $M$ from above, i.e., $\\succ_{\\texttt{p1}} = \\succ_M$.\n",
    "\n",
    "The **second line** tells *asprin* to compute optimal models wrt `p1`."
   ]
  },
  {
   "cell_type": "markdown",
   "id": "c04a0c53-78a7-405c-825b-900248a9049c",
   "metadata": {},
   "source": [
    "To use *asprin* in this notebook, we clone it from its repository:"
   ]
  },
  {
   "cell_type": "code",
   "execution_count": null,
   "id": "04037689-8526-4992-a8b3-baabef2983b4",
   "metadata": {},
   "outputs": [],
   "source": [
    "! git clone https://github.com/potassco/asprin.git"
   ]
  },
  {
   "cell_type": "markdown",
   "id": "8ea0885c-5444-47ba-962a-df6ec6687758",
   "metadata": {},
   "source": [
    "Normally, we would install it with:\n",
    "* `conda install -c potassco asprin --yes`\n",
    "\n",
    "but today (23.5.2024) the latest version available via conda is not compatible with the latest version of *clingo* used in this notebook."
   ]
  },
  {
   "cell_type": "code",
   "execution_count": 63,
   "id": "dd1c0078-9efd-422a-8a5f-4d21b301aeee",
   "metadata": {},
   "outputs": [
    {
     "name": "stdout",
     "output_type": "stream",
     "text": [
      "asprin version 3.1.2beta\n",
      "Reading from example1.lp ...\n",
      "Solving...\n",
      "Answer: 1\n",
      "a(2)\n",
      "OPTIMUM FOUND\n",
      "Answer: 2\n",
      "a(1)\n",
      "OPTIMUM FOUND\n",
      "\n",
      "Models       : 2\n",
      "  Optimum    : yes\n",
      "  Optimal    : 2\n",
      "Calls        : 7\n",
      "Time         : 0.080s (Solving: 0.00s 1st Model: 0.00s Unsat: 0.00s)\n",
      "CPU Time     : 0.076s\n"
     ]
    }
   ],
   "source": [
    "! python asprin/asprin/asprin.py example1.lp preference1.lp 0"
   ]
  },
  {
   "cell_type": "markdown",
   "id": "b3628a62-0a1b-4803-8183-24d8f8c27b0a",
   "metadata": {},
   "source": [
    "Observe how we obtain the same optimal answer sets as above with the minimize statement."
   ]
  },
  {
   "cell_type": "markdown",
   "id": "565692d2-a14f-477d-aa27-71b54d75e039",
   "metadata": {},
   "source": [
    "## Extending the preference specification"
   ]
  },
  {
   "cell_type": "markdown",
   "id": "5f8a99c8-24dc-4bac-a27f-8f302d53bd1b",
   "metadata": {},
   "source": [
    "Consider now this preference specification:"
   ]
  },
  {
   "cell_type": "code",
   "execution_count": 38,
   "id": "6247e35a-7fd2-4c7e-b5ea-a90ea625d5c4",
   "metadata": {},
   "outputs": [
    {
     "name": "stdout",
     "output_type": "stream",
     "text": [
      "Overwriting preference2.lp\n"
     ]
    }
   ],
   "source": [
    "%%file preference2.lp\n",
    "#preference(p1,less(weight)) { 1,X :: a(X) : dom(X) }.\n",
    "#preference(p2,      subset) {        a(X) : dom(X) }.\n",
    "\n",
    "#const s=p2.\n",
    "#optimize(s)."
   ]
  },
  {
   "cell_type": "markdown",
   "id": "c2082f5b-8857-42a3-8152-7147a234d461",
   "metadata": {},
   "source": [
    "The first line is the same as above.\n",
    "\n",
    "The **second line** says that the preference statement `p2` is of type `subset` and has the preference element `a(X) : dom(X)`.\n",
    "\n",
    "This declares the strict partial order $\\succ_\\texttt{p2}$ where $X \\succ_\\texttt{p2} Y$ if \n",
    "`{a(1),a(2)}` $\\cap \\ X \\subset$ `{a(1),a(2)}` $\\cap \\ Y$.\n",
    "\n",
    "It turns out that $\\succ_\\texttt{p2}$ is the same as $\\succ_\\texttt{p1}$ and as $\\succ_M$. You can check this by hand.\n",
    "\n",
    "Hence, the optimal models wrt `p2` are the same as before. \n",
    "\n",
    "The **last lines** says tell *asprin* to compute those optimal models."
   ]
  },
  {
   "cell_type": "code",
   "execution_count": 40,
   "id": "6cfdcce5-7c33-4c52-ae99-54cae3e702e5",
   "metadata": {},
   "outputs": [
    {
     "name": "stdout",
     "output_type": "stream",
     "text": [
      "asprin version 3.1.2beta\n",
      "Reading from example1.lp ...\n",
      "Solving...\n",
      "Answer: 1\n",
      "a(2)\n",
      "OPTIMUM FOUND\n",
      "Answer: 2\n",
      "a(1)\n",
      "OPTIMUM FOUND\n",
      "\n",
      "Models       : 2\n",
      "  Optimum    : yes\n",
      "  Optimal    : 2\n",
      "Calls        : 7\n",
      "Time         : 0.075s (Solving: 0.00s 1st Model: 0.00s Unsat: 0.00s)\n",
      "CPU Time     : 0.074s\n"
     ]
    }
   ],
   "source": [
    "! python asprin/asprin/asprin.py example1.lp preference2.lp 0"
   ]
  },
  {
   "cell_type": "markdown",
   "id": "4e18bfef-18c0-4f8b-9eec-a5c0951f9731",
   "metadata": {},
   "source": [
    "We obtain the same answer sets if we set the constant `s` to be `p1` (adding `-c s=p1` to the previous call)."
   ]
  },
  {
   "cell_type": "markdown",
   "id": "4ed55347-56ca-498f-96eb-da3be8cf6da3",
   "metadata": {},
   "source": [
    "We can now extend the base program with these rules:"
   ]
  },
  {
   "cell_type": "code",
   "execution_count": 41,
   "id": "b32e5278-d26e-4a8c-b2c5-d6070d982736",
   "metadata": {},
   "outputs": [
    {
     "name": "stdout",
     "output_type": "stream",
     "text": [
      "Overwriting example2.lp\n"
     ]
    }
   ],
   "source": [
    "%%file example2.lp\n",
    "dom(3).\n",
    "a(3) :- a(2).\n",
    "a(2) :- a(3)."
   ]
  },
  {
   "cell_type": "markdown",
   "id": "ebf68344-08a7-493e-b59f-c32f1ee75543",
   "metadata": {},
   "source": [
    "and we obtain 3 answer sets: "
   ]
  },
  {
   "cell_type": "code",
   "execution_count": 42,
   "id": "0d3516e6-e362-4a49-9c98-2eb70eeea88d",
   "metadata": {},
   "outputs": [
    {
     "name": "stdout",
     "output_type": "stream",
     "text": [
      "a(1)\n",
      "a(3) a(2)\n",
      "a(3) a(2) a(1)\n",
      "SATISFIABLE\n"
     ]
    }
   ],
   "source": [
    "! clingo example1.lp example2.lp 0 -V0"
   ]
  },
  {
   "cell_type": "markdown",
   "id": "d97b4f63-609a-467f-957a-fe923b18925e",
   "metadata": {},
   "source": [
    "Only the first one is minimal wrt the minimize statement or wrt `p1`:"
   ]
  },
  {
   "cell_type": "code",
   "execution_count": 43,
   "id": "db800f7a-8578-4b3b-9002-da2e7bc8b634",
   "metadata": {},
   "outputs": [
    {
     "name": "stdout",
     "output_type": "stream",
     "text": [
      "a(1)\n",
      "Optimization: 1\n",
      "OPTIMUM FOUND\n"
     ]
    }
   ],
   "source": [
    "! clingo example1.lp example2.lp minimize.lp --opt-mode=optN 0 -V0 --quiet=1"
   ]
  },
  {
   "cell_type": "code",
   "execution_count": 44,
   "id": "c2d8b652-b35b-44a3-8554-8bbcaaf24608",
   "metadata": {},
   "outputs": [
    {
     "name": "stdout",
     "output_type": "stream",
     "text": [
      "asprin version 3.1.2beta\n",
      "Reading from example1.lp ...\n",
      "Solving...\n",
      "Answer: 1\n",
      "a(1)\n",
      "OPTIMUM FOUND\n",
      "\n",
      "Models       : 1\n",
      "  Optimum    : yes\n",
      "  Optimal    : 1\n",
      "Calls        : 4\n",
      "Time         : 0.070s (Solving: 0.00s 1st Model: 0.00s Unsat: 0.00s)\n",
      "CPU Time     : 0.069s\n"
     ]
    }
   ],
   "source": [
    "! python asprin/asprin/asprin.py example1.lp example2.lp preference2.lp 0 -c s=p1"
   ]
  },
  {
   "cell_type": "markdown",
   "id": "7294e5c8-cac8-4591-bacb-b2ee10b1a2ab",
   "metadata": {},
   "source": [
    "but both `{a(1)}` and `{a(2),a(3)}` are optimal wrt `p2`:"
   ]
  },
  {
   "cell_type": "code",
   "execution_count": 45,
   "id": "0821255a-81f4-48a7-aa7a-a6262396127b",
   "metadata": {},
   "outputs": [
    {
     "name": "stdout",
     "output_type": "stream",
     "text": [
      "asprin version 3.1.2beta\n",
      "Reading from example1.lp ...\n",
      "Solving...\n",
      "Answer: 1\n",
      "a(1)\n",
      "OPTIMUM FOUND\n",
      "Answer: 2\n",
      "a(3) a(2)\n",
      "OPTIMUM FOUND\n",
      "\n",
      "Models       : 2\n",
      "  Optimum    : yes\n",
      "  Optimal    : 2\n",
      "Calls        : 7\n",
      "Time         : 0.073s (Solving: 0.00s 1st Model: 0.00s Unsat: 0.00s)\n",
      "CPU Time     : 0.073s\n"
     ]
    }
   ],
   "source": [
    "! python asprin/asprin/asprin.py example1.lp example2.lp preference2.lp 0"
   ]
  },
  {
   "cell_type": "markdown",
   "id": "8885598c-c93b-4796-9835-dd289fcf17c9",
   "metadata": {},
   "source": [
    "How can this be the case?\n",
    "\n",
    "The reason is that the order declared by `p2` is different from the order declared by either `p1` or $M$.\n",
    "\n",
    "Now we have that $X \\succ_\\texttt{p2} Y$ if \n",
    "`{a(1),a(2),a(3)}` $\\cap \\ X \\subset$ `{a(1),a(2),a(3)}` $\\cap \\ Y$.\n",
    "\n",
    "But then, `{a(1)}` $\\not\\succ_\\texttt{p2}$ `{a(2),a(3)}`. \n",
    "This makes sense, since `{a(1)}` is not a subset of `{a(2),a(3)}`.\n",
    "\n",
    "On the other hand, `{a(1)}` $\\succ_\\texttt{p1}$ `{a(2),a(3)}`.\n",
    "This makes sense, since the weight of `{a(1)}` is `1`, and this is less than the weight of `{a(2),a(3)}`, that is `2`.\n",
    "\n",
    "\n",
    "Then, `{a(2),a(3)}` is optimal wrt `p2` because none of its subsets (`{}`, `{a(2)}` or `{a(3)}`) is an answer set, \n",
    "but it is not optimal wrt `p1` because `{a(1)}` is an answer set better than it wrt `p1`."
   ]
  },
  {
   "cell_type": "markdown",
   "id": "6322fae1-55e2-40b8-b80c-f68dd4278329",
   "metadata": {},
   "source": [
    "This kind of subset preferences are very useful in practice and show up often in real-world applications."
   ]
  },
  {
   "cell_type": "markdown",
   "id": "7cc86be1-194f-482c-afc9-7452ed99b41a",
   "metadata": {},
   "source": [
    "# Task\n"
   ]
  },
  {
   "cell_type": "markdown",
   "id": "9ca13bcb-07b9-4f9f-94b8-06747eee5987",
   "metadata": {},
   "source": [
    "The task of this project is to implement a minimal version of *asprin*, called *mini-asprin*.\n",
    "\n",
    "The input to *mini-asprin* should be:\n",
    "- some *clingo* program including minimize statements, and\n",
    "- some *preference* program re-interpreting those minimize statements (see below).\n",
    "\n",
    "Given that input, \n",
    "*mini-asprin* should print the answer sets of the *clingo* program \n",
    "that are optimal wrt the re-interpretation of the minimize statements. "
   ]
  },
  {
   "cell_type": "markdown",
   "id": "806fc3ca-3a85-4738-b0d6-55bd75b9df07",
   "metadata": {},
   "source": [
    "For example, if:\n",
    "* the input consists of the files `example1.lp example2.lp minimize.lp`, and\n",
    "* the preference program (in `less-weight.lp`) interprets minimize statements as usual,\n",
    "\n",
    "then we should obtain the unique optimal answer set `{a(1)}`:"
   ]
  },
  {
   "cell_type": "code",
   "execution_count": 24,
   "id": "9e352136-4783-4479-bc0f-db6aae453a0f",
   "metadata": {},
   "outputs": [
    {
     "name": "stdout",
     "output_type": "stream",
     "text": [
      "clingo version 5.7.1\n",
      "Reading from - ...\n",
      "Solving...\n",
      "Answer: 1\n",
      "a(1)\n",
      "Solving...\n",
      "OPTIMUM FOUND\n",
      "Solving...\n",
      "UNSATISFIABLE\n",
      "\n",
      "Models       : 1\n",
      "Calls        : 3\n",
      "Time         : 0.002s (Solving: 0.00s 1st Model: 0.00s Unsat: 0.00s)\n",
      "CPU Time     : 0.002s\n"
     ]
    }
   ],
   "source": [
    "! clingo example1.lp example2.lp minimize.lp --output=reify | python mini-asprin.py - less-weight.lp 0"
   ]
  },
  {
   "cell_type": "markdown",
   "id": "a64ebeb3-b64b-459f-b0be-606c0a11b4b5",
   "metadata": {},
   "source": [
    "But if the preference program (in `subset.lp`) interprets the minimize statement as a subset preference, \n",
    "then we should obtain the two optimal answer sets `{a(1)}` and `{a(2), a(3)}`:"
   ]
  },
  {
   "cell_type": "code",
   "execution_count": 25,
   "id": "d06cdb62-0608-4679-8d31-b6f0dc8dc1e7",
   "metadata": {},
   "outputs": [
    {
     "name": "stdout",
     "output_type": "stream",
     "text": [
      "clingo version 5.7.1\n",
      "Reading from - ...\n",
      "Solving...\n",
      "Answer: 1\n",
      "a(1)\n",
      "Solving...\n",
      "OPTIMUM FOUND\n",
      "Solving...\n",
      "Answer: 1\n",
      "a(2) a(3)\n",
      "Solving...\n",
      "OPTIMUM FOUND\n",
      "Solving...\n",
      "UNSATISFIABLE\n",
      "\n",
      "Models       : 2\n",
      "Calls        : 5\n",
      "Time         : 0.004s (Solving: 0.00s 1st Model: 0.00s Unsat: 0.00s)\n",
      "CPU Time     : 0.004s\n"
     ]
    }
   ],
   "source": [
    "! clingo example1.lp example2.lp minimize.lp --output=reify | python mini-asprin.py - subset.lp 0"
   ]
  },
  {
   "cell_type": "markdown",
   "id": "9182131c-d764-4ab1-9370-97e51aa4a3a1",
   "metadata": {},
   "source": [
    "We recommend you to extend the initial script that comes with this notebook. As you can see, it uses meta-programming.\n",
    "\n",
    "In its current form, the script loads the input and the meta-encoding, grounds both together and solves.\n",
    "\n",
    "It computes normal answer sets of the input program."
   ]
  },
  {
   "cell_type": "code",
   "execution_count": 26,
   "id": "9598de37-1ac6-4a96-965c-fa16380b8b06",
   "metadata": {},
   "outputs": [
    {
     "name": "stdout",
     "output_type": "stream",
     "text": [
      "import sys\n",
      "from clingo.application import clingo_main, Application\n",
      "from clingo.script import enable_python\n",
      "from clingo.symbol import Number, Function\n",
      "\n",
      "enable_python()\n",
      "\n",
      "META = \"\"\"\n",
      "conjunction(B) :- literal_tuple(B),\n",
      "        hold(L,0) : literal_tuple(B, L), L > 0;\n",
      "    not hold(L,0) : literal_tuple(B,-L), L > 0.\n",
      "\n",
      "body(normal(B)) :- rule(_,normal(B)), conjunction(B).\n",
      "body(sum(B,G))  :- rule(_,sum(B,G)),\n",
      "    #sum { W,L :     hold(L,0), weighted_literal_tuple(B, L,W), L > 0 ;\n",
      "           W,L : not hold(L,0), weighted_literal_tuple(B,-L,W), L > 0 } >= G.\n",
      "\n",
      "  hold(A,0) : atom_tuple(H,A)   :- rule(disjunction(H),B), body(B).\n",
      "{ hold(A,0) : atom_tuple(H,A) } :- rule(     choice(H),B), body(B).\n",
      "\n",
      "#show.\n",
      "#show T : output(T,B), conjunction(B).\n",
      "\"\"\"\n",
      "\n",
      "HOLD = \"\"\"\n",
      "hold(A,m) :- A = @get_hold().\n",
      "\"\"\"\n",
      "\n",
      "DELETE = \"\"\"\n",
      ":- hold(A,0) : hold(A,m);\n",
      "   hold(A,m) : hold(A,0).\n",
      "\"\"\"\n",
      "\n",
      "class MiniAsprinApp(Application):\n",
      "\n",
      "    def main(self, ctl, files):\n",
      "        for path in files:\n",
      "            ctl.load(path)\n",
      "        if not files:\n",
      "            ctl.load(\"-\")\n",
      "        ctl.add(\"meta\",[],META)\n",
      "        ctl.ground([(\"base\", []), (\"meta\", [])])\n",
      "        ctl.solve()\n",
      "\n",
      "if __name__ == \"__main__\":\n",
      "    clingo_main(MiniAsprinApp(), sys.argv[1:])\n"
     ]
    }
   ],
   "source": [
    "! cat mini-asprin.py"
   ]
  },
  {
   "cell_type": "markdown",
   "id": "adfa4dab-0b46-4bbe-90a4-3ac7f84e1f47",
   "metadata": {},
   "source": [
    "As you can see, \n",
    "the script uses a modification of the common meta-encoding,\n",
    "where true atoms are represented by `hold(A,0)` instead of `hold(A)`.\n",
    "\n",
    "The final `mini-asprin` will often compute many answer sets.\n",
    "We can:\n",
    "* assign a number greater than 0 to each of them: 1, 2, ..., and\n",
    "* represent the true atoms in answer set `M` by `hold(A,M)`.\n",
    "\n",
    "We can use the program `HOLD` for that.\n",
    "\n",
    "Program `DELETE` can be used to eliminate the answer set `m` \n",
    "from our program, where `m` should be the number of an answer set."
   ]
  }
 ],
 "metadata": {
  "kernelspec": {
   "display_name": "Python 3 (ipykernel)",
   "language": "python",
   "name": "python3"
  },
  "language_info": {
   "codemirror_mode": {
    "name": "ipython",
    "version": 3
   },
   "file_extension": ".py",
   "mimetype": "text/x-python",
   "name": "python",
   "nbconvert_exporter": "python",
   "pygments_lexer": "ipython3",
   "version": "3.12.3"
  }
 },
 "nbformat": 4,
 "nbformat_minor": 5
}
