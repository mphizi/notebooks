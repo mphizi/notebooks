{
 "cells": [
  {
   "cell_type": "markdown",
   "id": "ad548974-b9d9-4d29-84e7-4e3fcafa9afc",
   "metadata": {},
   "source": [
    "# A Shell for clingo, using Multi Shot Solving\n",
    "\n",
    "The task of this notebook is to implement a shell for clingo, based on the ideas of [1], using the clingo API described in [2]. \n",
    "\n",
    "Before starting the project, please read sections 1, 3 and 4 of [1] and sections 4 and 5 of [2].\n",
    "\n",
    "You can use the script `clingo-shell.py` as a starting point for your implementation.\n",
    "\n",
    "[1] [Gebser, M., Obermeier, P., & Schaub, T. (2015). Interactive Answer Set Programming - Preliminary Report. CoRR, abs/1511.01261.](https://www.cs.uni-potsdam.de/wv/publications/DBLP_journals/corr/GebserOS15.pdf)\n",
    "\n",
    "[2] [Kaminski, R., Romero, J., Schaub, T., & Wanko, P. (2023). How to Build Your Own ASP-based System?! Theory Pract. Log. Program., 23(1), 299–361.](https://arxiv.org/pdf/2008.06692.pdf)\n"
   ]
  },
  {
   "cell_type": "markdown",
   "id": "14fa822a-16b5-420a-a8cc-6564e9b26ee8",
   "metadata": {},
   "source": [
    "## A quick note about externals and assumptions"
   ]
  },
  {
   "cell_type": "markdown",
   "id": "516109eb-5a29-463e-9f5e-19ea286f2aa8",
   "metadata": {},
   "source": [
    "In the following block, the external `a` is first false by default, then true, and finally open."
   ]
  },
  {
   "cell_type": "code",
   "execution_count": 1,
   "id": "ad8c0255-6dea-4eb6-9a0f-82cb4906902f",
   "metadata": {},
   "outputs": [
    {
     "name": "stdout",
     "output_type": "stream",
     "text": [
      "b\n",
      "\n",
      "a\n",
      "\n",
      "b\n",
      "a\n"
     ]
    },
    {
     "data": {
      "text/plain": [
       "SolveResult(5)"
      ]
     },
     "execution_count": 1,
     "metadata": {},
     "output_type": "execute_result"
    }
   ],
   "source": [
    "from clingo import Control\n",
    "from clingo.symbol import parse_term\n",
    "\n",
    "control = Control([\"0\"])\n",
    "control.add(\"base\", [], \"#external a. b :- not a.\") # a is external (false by default)\n",
    "a = parse_term(\"a\")\n",
    "control.ground([(\"base\", [])])\n",
    "control.solve(on_model=print) # {b}\n",
    "\n",
    "print()\n",
    "control.assign_external(a, True) # a is true\n",
    "control.solve(on_model=print) # {a}\n",
    "\n",
    "print()\n",
    "control.assign_external(a, None) # a is open\n",
    "control.solve(on_model=print) # {b}, {a}"
   ]
  },
  {
   "cell_type": "markdown",
   "id": "3cdb569a-b8c8-4faf-93bc-5667e4d69e0e",
   "metadata": {},
   "source": [
    "We can simulate this behavior adding a choice rule for `{a}` and \n",
    "setting its value using assumptions:\n",
    "* if the external `a` was false then we add the assumption that `a` is false\n",
    "* if the external `a` was true then we add the assumption that `a` is true\n",
    "* if the external `a` was open then we add no assumption"
   ]
  },
  {
   "cell_type": "code",
   "execution_count": 2,
   "id": "ee18cd65-9fcf-474d-8da2-b8ea4aebc857",
   "metadata": {},
   "outputs": [
    {
     "name": "stdout",
     "output_type": "stream",
     "text": [
      "b\n",
      "\n",
      "a\n",
      "\n",
      "b\n",
      "a\n"
     ]
    },
    {
     "data": {
      "text/plain": [
       "SolveResult(5)"
      ]
     },
     "execution_count": 2,
     "metadata": {},
     "output_type": "execute_result"
    }
   ],
   "source": [
    "from clingo import Control\n",
    "from clingo.symbol import parse_term\n",
    "\n",
    "control = Control([\"0\"])\n",
    "control.add(\"base\", [], \"{a}. b :- not a.\") # choice rule for a\n",
    "control.ground([(\"base\", [])])\n",
    "a = parse_term(\"a\")\n",
    "assumptions = [(a, False)] # assume a is false\n",
    "control.solve(on_model=print, assumptions=assumptions) # {b}\n",
    "\n",
    "print()\n",
    "assumptions = [(a, True)] # assume a is true\n",
    "control.solve(on_model=print, assumptions=assumptions) # {a}\n",
    "\n",
    "print()\n",
    "assumptions = [] # no assumption (a is open)\n",
    "control.solve(on_model=print, assumptions=assumptions) # {b}, {a}"
   ]
  },
  {
   "cell_type": "markdown",
   "id": "7f52a20f-257e-4151-b9b9-92bf0156ebd8",
   "metadata": {},
   "source": [
    "With externals, we can also run \n",
    "```\n",
    "control.release_external(parse_term(\"a\"))\n",
    "```\n",
    "This makes `a` permanently false, and tells clingo to simplify the program taking into account this information.\n",
    "\n",
    "We can simulate this adding `(a, False)` to our list of assumptions forever, but in this case no simplifications take place."
   ]
  },
  {
   "cell_type": "markdown",
   "id": "216130d3-0905-421b-91c4-afee654d848e",
   "metadata": {},
   "source": [
    "Externals can also be redefined. \n",
    "\n",
    "For example, if we run the next cell after the code with externals, we obtain the answer `{a}`.\n",
    "\n",
    "But if we run the next cell after the code with assumptions, we obtain an error."
   ]
  },
  {
   "cell_type": "code",
   "execution_count": 3,
   "id": "a67ace52-0233-4523-a47e-8c54867d3834",
   "metadata": {},
   "outputs": [
    {
     "name": "stdout",
     "output_type": "stream",
     "text": [
      "b\n",
      "a\n",
      "\n"
     ]
    }
   ],
   "source": [
    "control.add(\"new\", [], \"a.\")\n",
    "control.ground([(\"new\", [])])\n",
    "control.solve(on_model=print) # {a} \n",
    "print()"
   ]
  },
  {
   "cell_type": "markdown",
   "id": "5bf4315d-9b76-4eeb-a58f-df7b4994e7e6",
   "metadata": {},
   "source": [
    "We can also enable this kind of redefinition using assumptions, but the solution is a bit involved and we do not show it here."
   ]
  },
  {
   "cell_type": "markdown",
   "id": "32ed10f7-765c-4b13-9f61-0d4178025ef4",
   "metadata": {},
   "source": [
    "We can also go in the other direction, and simulate assumptions using externals and additional programs.\n",
    "\n",
    "For example, to simulate the assumption that `a` is false, we can:\n",
    "* add the rule `:- a, flag1. #external flag1. [true]` enforcing that `a` is false\n",
    "  given that `flag1` is made true\n",
    "* solve\n",
    "* release `flag1` to come back to the state before adding the rule"
   ]
  },
  {
   "cell_type": "code",
   "execution_count": 4,
   "id": "1d97f118-73d4-4e28-919b-7f75b17bbb23",
   "metadata": {},
   "outputs": [
    {
     "name": "stdout",
     "output_type": "stream",
     "text": [
      "b flag1\n",
      "\n",
      "a flag2\n",
      "\n",
      "b\n",
      "a\n"
     ]
    },
    {
     "data": {
      "text/plain": [
       "SolveResult(5)"
      ]
     },
     "execution_count": 4,
     "metadata": {},
     "output_type": "execute_result"
    }
   ],
   "source": [
    "from clingo import Control\n",
    "from clingo.symbol import parse_term\n",
    "\n",
    "control = Control([\"0\"])\n",
    "control.add(\"base\", [], \"{a}. b :- not a.\")\n",
    "control.ground([(\"base\", [])])\n",
    "\n",
    "control.add(\"assumption1\", [], \":- a, flag1. #external flag1. [true]\") # a is false\n",
    "control.ground([(\"assumption1\", [])])\n",
    "control.solve(on_model=print) # {b}\n",
    "control.release_external(parse_term(\"flag1\"))\n",
    "\n",
    "print()\n",
    "control.add(\"assumption2\", [], \":- not a, flag2. #external flag2. [true]\") # a is true\n",
    "control.ground([(\"assumption2\", [])])\n",
    "control.solve(on_model=print) # {a}\n",
    "control.release_external(parse_term(\"flag2\"))\n",
    "\n",
    "print()\n",
    "control.solve(on_model=print) # {b}, {a}"
   ]
  },
  {
   "cell_type": "markdown",
   "id": "11ab1d7e-06cd-4435-8496-6d3e919ab5c6",
   "metadata": {},
   "source": [
    "## Task\n",
    "\n",
    "The main difference between our approach and the approach presented in [1] is that we do not implement directly the command `query`. Instead, we use a combination of other commands to achieve a similar functionality.\n",
    "\n",
    "In addition, we define two new groups of commands:\n",
    "* `opt-on` and `opt-off` to turn on and off optimization (we assume it is off by default), and\n",
    "* `show-add`, `show-remove`, `hide-add` and `hide-remove` to mantain a list of shown and hidden predicates that are used to determine what atoms are shown"
   ]
  },
  {
   "cell_type": "markdown",
   "id": "191418f2-6ca4-4eb3-8a99-e017b03d2cd2",
   "metadata": {},
   "source": [
    "The script should optionally accept a file including a sequence of commands, that should be run before starting the interaction.\n",
    "\n",
    "In our simplest example, given the file `example/example.lp`:"
   ]
  },
  {
   "cell_type": "code",
   "execution_count": 5,
   "id": "b4fd13b1-a45c-424f-81b1-d3b8aaabcdc5",
   "metadata": {
    "tags": []
   },
   "outputs": [
    {
     "name": "stdout",
     "output_type": "stream",
     "text": [
      "dom(1..2).\n",
      "1 { a(X) : dom(X) }.\n",
      "b(X) :- a(X).\n",
      "#show b/1.\n"
     ]
    }
   ],
   "source": [
    "! cat example/example.lp"
   ]
  },
  {
   "cell_type": "markdown",
   "id": "6c46a93e-968b-43c0-a78a-2ad98d529f5b",
   "metadata": {},
   "source": [
    "You can run this sequence of commands:"
   ]
  },
  {
   "cell_type": "code",
   "execution_count": 6,
   "id": "e33f96af-8eb3-4db6-b3e7-baf3fcf410f1",
   "metadata": {
    "tags": []
   },
   "outputs": [
    {
     "name": "stdout",
     "output_type": "stream",
     "text": [
      "load example/example.lp\n",
      "solve\n",
      "exit\n"
     ]
    }
   ],
   "source": [
    "! cat example/example-batch.txt"
   ]
  },
  {
   "cell_type": "markdown",
   "id": "53a60031-a7c0-4504-b321-5b4cf08e9de2",
   "metadata": {},
   "source": [
    "and obtain:"
   ]
  },
  {
   "cell_type": "code",
   "execution_count": 7,
   "id": "21974adb-e052-4984-a2e4-216847524364",
   "metadata": {
    "tags": []
   },
   "outputs": [
    {
     "name": "stdout",
     "output_type": "stream",
     "text": [
      "?- load example/example.lp\n",
      "\n",
      "?- solve\n",
      "Model: [b(2)]\n",
      "SAT\n",
      "\n",
      "?- exit\n"
     ]
    }
   ],
   "source": [
    "! python clingo-shell.py example/example-batch.txt"
   ]
  },
  {
   "cell_type": "markdown",
   "id": "0a87c8c0-c1d4-4463-9413-00608c544f03",
   "metadata": {},
   "source": [
    "Your script should be able to simulate the approach of [1]. For this, the file `ncoloring.lp` of [1] is available at `ncoloring/ncoloring.lp`:"
   ]
  },
  {
   "cell_type": "code",
   "execution_count": 8,
   "id": "3cb98d25-7544-4160-8385-5d25b82f8c05",
   "metadata": {
    "tags": []
   },
   "outputs": [
    {
     "name": "stdout",
     "output_type": "stream",
     "text": [
      "#const n = 3.\n",
      "#const m = 10.\n",
      "color(1..n).\n",
      "\n",
      "% Extract nodes from edges\n",
      "node(X) :- edge(X,_).\n",
      "node(X) :- edge(_,X).\n",
      "\n",
      "% Generate n-coloring\n",
      "1 { mark(X,C) : color(C) } 1 :- node(X).\n",
      ":- edge(X,Y), mark(X,C), mark(Y,C).\n",
      "\n",
      "% Allow aspic user to add and remove edges via externals\n",
      "#external edge(X,Y) : X = 1..m-1, Y = X+1..m.\n",
      "\n",
      "% Display n-coloring\n",
      "#show mark/2.\n"
     ]
    }
   ],
   "source": [
    "! cat ncoloring/ncoloring.lp "
   ]
  },
  {
   "cell_type": "markdown",
   "id": "63539e3f-94f3-4662-b531-fd57d1212aa1",
   "metadata": {},
   "source": [
    "In the directory `ncoloring` there is also a batch file simulating the commands used in the examples of [1], and adding a few more at the end:"
   ]
  },
  {
   "cell_type": "code",
   "execution_count": 9,
   "id": "8f4a9184-abc6-4034-a051-121db6e107d6",
   "metadata": {
    "tags": []
   },
   "outputs": [
    {
     "name": "stdout",
     "output_type": "stream",
     "text": [
      "load ncoloring.lp\n",
      "solve\n",
      "assert edge(1,2)\n",
      "assert edge(1,4)\n",
      "assert edge(2,3)\n",
      "assert edge(3,4)\n",
      "assume mark(1,1)\n",
      "solve\n",
      "cancel mark(1,1)\n",
      "option -n 0\n",
      "assume mark(1,1)\n",
      "solve\n",
      "cancel mark(1,1)\n",
      "option -e brave\n",
      "assume mark(1,1)\n",
      "solve\n",
      "cancel mark(1,1)\n",
      "option -e cautious\n",
      "assume mark(1,1)\n",
      "solve\n",
      "cancel mark(1,1)\n",
      "option -e auto\n",
      "add query1 :- mark(1,1), 1 { mark(3,2); not mark(4,2) }.\n",
      "assume query1\n",
      "solve\n",
      "cancel query1\n",
      "assert edge(2,4)\n",
      "assume query1\n",
      "solve\n",
      "cancel query1\n",
      "open edge(2,4)\n",
      "assume query1\n",
      "solve\n",
      "cancel query1\n",
      "retract edge(2,4)\n",
      "assume query1\n",
      "solve\n",
      "cancel query1\n",
      "assume not mark(2,3)\n",
      "assume mark(1,1)\n",
      "solve\n",
      "cancel mark(1,1)\n",
      "assume query1\n",
      "solve\n",
      "cancel query1\n",
      "cancel not mark(2,3)\n",
      "add #external elim(X,C) : X = 1..m, color(C).\n",
      "add :- edge(X,Y), elim(X,C), mark(Y,C).\n",
      "add :- edge(X,Y), mark(X,C), elim(Y,C).\n",
      "assert elim(2,3)\n",
      "assert elim(4,2)\n",
      "add query2 :- mark(X,1), elim(X,C).\n",
      "assume query2\n",
      "solve\n",
      "cancel query2\n",
      "add query3 :- mark(X,C), elim(X,C).\n",
      "assume query3\n",
      "solve\n",
      "cancel query3\n",
      "add #minimize{ C@X : mark(X,C), X =1..3 }.\n",
      "solve\n",
      "opt-on\n",
      "solve\n",
      "assume not mark(2,2)\n",
      "solve\n",
      "cancel not mark(2,2)\n",
      "opt-off\n",
      "solve\n",
      "show-add edge/2\n",
      "hide-add mark/2\n",
      "solve \n",
      "show-remove edge/2\n",
      "hide-remove mark/2\n",
      "solve \n",
      "exit\n"
     ]
    }
   ],
   "source": [
    "! cat ncoloring/ncoloring-batch.txt"
   ]
  },
  {
   "cell_type": "markdown",
   "id": "fa966bd9-dea9-41b5-96d0-628b3634693c",
   "metadata": {},
   "source": [
    "Observe how the `query` commands are simulated by a mixture of:\n",
    "* `assume` and `cancel` commands, and\n",
    "* `add` commands to add rules defining new atoms `query1`, `query2`, ..., when needed."
   ]
  },
  {
   "cell_type": "markdown",
   "id": "8370c4be-922a-4152-9232-b4a265190b36",
   "metadata": {},
   "source": [
    "The output generated by your script should look like this:"
   ]
  },
  {
   "cell_type": "code",
   "execution_count": 10,
   "id": "8c21fbee-81e5-4266-9118-b3e4289eb66c",
   "metadata": {
    "tags": []
   },
   "outputs": [
    {
     "name": "stdout",
     "output_type": "stream",
     "text": [
      "?- load ncoloring.lp\n",
      "\n",
      "?- solve\n",
      "Model: []\n",
      "SAT\n",
      "\n",
      "?- assert edge(1,2)\n",
      "\n",
      "?- assert edge(1,4)\n",
      "\n",
      "?- assert edge(2,3)\n",
      "\n",
      "?- assert edge(3,4)\n",
      "\n",
      "?- assume mark(1,1)\n",
      "\n",
      "?- solve\n",
      "Model: [mark(1,1), mark(2,3), mark(3,2), mark(4,3)]\n",
      "SAT\n",
      "\n",
      "?- cancel mark(1,1)\n",
      "\n",
      "?- option -n 0\n",
      "\n",
      "?- assume mark(1,1)\n",
      "\n",
      "?- solve\n",
      "Model: [mark(1,1), mark(2,3), mark(3,2), mark(4,3)]\n",
      "Model: [mark(1,1), mark(2,3), mark(3,1), mark(4,3)]\n",
      "Model: [mark(1,1), mark(2,2), mark(3,1), mark(4,3)]\n",
      "Model: [mark(1,1), mark(2,3), mark(3,1), mark(4,2)]\n",
      "Model: [mark(1,1), mark(2,2), mark(3,1), mark(4,2)]\n",
      "Model: [mark(1,1), mark(2,2), mark(3,3), mark(4,2)]\n",
      "SAT\n",
      "\n",
      "?- cancel mark(1,1)\n",
      "\n",
      "?- option -e brave\n",
      "\n",
      "?- assume mark(1,1)\n",
      "\n",
      "?- solve\n",
      "Model: [mark(1,1), mark(2,2), mark(2,3), mark(3,1), mark(3,2), mark(3,3), mark(4,2), mark(4,3)]\n",
      "SAT\n",
      "\n",
      "?- cancel mark(1,1)\n",
      "\n",
      "?- option -e cautious\n",
      "\n",
      "?- assume mark(1,1)\n",
      "\n",
      "?- solve\n",
      "Model: [mark(1,1)]\n",
      "SAT\n",
      "\n",
      "?- cancel mark(1,1)\n",
      "\n",
      "?- option -e auto\n",
      "\n",
      "?- add query1 :- mark(1,1), 1 { mark(3,2); not mark(4,2) }.\n",
      "\n",
      "?- assume query1\n",
      "\n",
      "?- solve\n",
      "Model: [mark(1,1), mark(2,3), mark(3,1), mark(4,3)]\n",
      "Model: [mark(1,1), mark(2,3), mark(3,2), mark(4,3)]\n",
      "Model: [mark(1,1), mark(2,2), mark(3,1), mark(4,3)]\n",
      "SAT\n",
      "\n",
      "?- cancel query1\n",
      "\n",
      "?- assert edge(2,4)\n",
      "\n",
      "?- assume query1\n",
      "\n",
      "?- solve\n",
      "Model: [mark(1,1), mark(2,2), mark(3,1), mark(4,3)]\n",
      "SAT\n",
      "\n",
      "?- cancel query1\n",
      "\n",
      "?- open edge(2,4)\n",
      "\n",
      "?- assume query1\n",
      "\n",
      "?- solve\n",
      "Model: [mark(1,1), mark(2,3), mark(3,1), mark(4,3)]\n",
      "Model: [mark(1,1), mark(2,3), mark(3,2), mark(4,3)]\n",
      "Model: [mark(1,1), mark(2,2), mark(3,1), mark(4,3)]\n",
      "Model: [mark(1,1), mark(2,2), mark(3,1), mark(4,3)]\n",
      "SAT\n",
      "\n",
      "?- cancel query1\n",
      "\n",
      "?- retract edge(2,4)\n",
      "\n",
      "?- assume query1\n",
      "\n",
      "?- solve\n",
      "Model: [mark(1,1), mark(2,3), mark(3,1), mark(4,3)]\n",
      "Model: [mark(1,1), mark(2,3), mark(3,2), mark(4,3)]\n",
      "Model: [mark(1,1), mark(2,2), mark(3,1), mark(4,3)]\n",
      "SAT\n",
      "\n",
      "?- cancel query1\n",
      "\n",
      "?- assume not mark(2,3)\n",
      "\n",
      "?- assume mark(1,1)\n",
      "\n",
      "?- solve\n",
      "Model: [mark(1,1), mark(2,2), mark(3,1), mark(4,3)]\n",
      "Model: [mark(1,1), mark(2,2), mark(3,3), mark(4,2)]\n",
      "Model: [mark(1,1), mark(2,2), mark(3,1), mark(4,2)]\n",
      "SAT\n",
      "\n",
      "?- cancel mark(1,1)\n",
      "\n",
      "?- assume query1\n",
      "\n",
      "?- solve\n",
      "Model: [mark(1,1), mark(2,2), mark(3,1), mark(4,3)]\n",
      "SAT\n",
      "\n",
      "?- cancel query1\n",
      "\n",
      "?- cancel not mark(2,3)\n",
      "\n",
      "?- add #external elim(X,C) : X = 1..m, color(C).\n",
      "\n",
      "?- add :- edge(X,Y), elim(X,C), mark(Y,C).\n",
      "\n",
      "?- add :- edge(X,Y), mark(X,C), elim(Y,C).\n",
      "\n",
      "?- assert elim(2,3)\n",
      "\n",
      "?- assert elim(4,2)\n",
      "\n",
      "?- add query2 :- mark(X,1), elim(X,C).\n",
      "\n",
      "?- assume query2\n",
      "\n",
      "?- solve\n",
      "UNSAT\n",
      "\n",
      "?- cancel query2\n",
      "\n",
      "?- add query3 :- mark(X,C), elim(X,C).\n",
      "\n",
      "?- assume query3\n",
      "\n",
      "?- solve\n",
      "Model: [mark(1,1), mark(2,3), mark(3,1), mark(4,3)]\n",
      "Model: [mark(1,1), mark(2,3), mark(3,1), mark(4,2)]\n",
      "Model: [mark(1,1), mark(2,2), mark(3,1), mark(4,2)]\n",
      "SAT\n",
      "\n",
      "?- cancel query3\n",
      "\n",
      "?- add #minimize{ C@X : mark(X,C), X =1..3 }.\n",
      "\n",
      "?- solve\n",
      "Model: [mark(1,1), mark(2,3), mark(3,1), mark(4,3)]\n",
      "Model: [mark(1,1), mark(2,2), mark(3,1), mark(4,3)]\n",
      "Model: [mark(1,1), mark(2,3), mark(3,1), mark(4,2)]\n",
      "Model: [mark(1,1), mark(2,2), mark(3,1), mark(4,2)]\n",
      "SAT\n",
      "\n",
      "?- opt-on\n",
      "\n",
      "?- solve\n",
      "Model: [mark(1,1), mark(2,2), mark(3,1), mark(4,3)]\n",
      "Model: [mark(1,1), mark(2,2), mark(3,1), mark(4,2)]\n",
      "SAT\n",
      "\n",
      "?- assume not mark(2,2)\n",
      "\n",
      "?- solve\n",
      "Model: [mark(1,1), mark(2,3), mark(3,1), mark(4,3)]\n",
      "Model: [mark(1,1), mark(2,3), mark(3,1), mark(4,2)]\n",
      "SAT\n",
      "\n",
      "?- cancel not mark(2,2)\n",
      "\n",
      "?- opt-off\n",
      "\n",
      "?- solve\n",
      "Model: [mark(1,1), mark(2,3), mark(3,1), mark(4,3)]\n",
      "Model: [mark(1,1), mark(2,2), mark(3,1), mark(4,3)]\n",
      "Model: [mark(1,1), mark(2,3), mark(3,1), mark(4,2)]\n",
      "Model: [mark(1,1), mark(2,2), mark(3,1), mark(4,2)]\n",
      "SAT\n",
      "\n",
      "?- show-add edge/2\n",
      "\n",
      "?- hide-add mark/2\n",
      "\n",
      "?- solve \n",
      "Model: [edge(1,2), edge(1,4), edge(2,3), edge(3,4)]\n",
      "Model: [edge(1,2), edge(1,4), edge(2,3), edge(3,4)]\n",
      "Model: [edge(1,2), edge(1,4), edge(2,3), edge(3,4)]\n",
      "Model: [edge(1,2), edge(1,4), edge(2,3), edge(3,4)]\n",
      "SAT\n",
      "\n",
      "?- show-remove edge/2\n",
      "\n",
      "?- hide-remove mark/2\n",
      "\n",
      "?- solve \n",
      "Model: [mark(1,1), mark(2,3), mark(3,1), mark(4,3)]\n",
      "Model: [mark(1,1), mark(2,2), mark(3,1), mark(4,3)]\n",
      "Model: [mark(1,1), mark(2,3), mark(3,1), mark(4,2)]\n",
      "Model: [mark(1,1), mark(2,2), mark(3,1), mark(4,2)]\n",
      "SAT\n",
      "\n",
      "?- exit\n"
     ]
    }
   ],
   "source": [
    "! cat ncoloring/ncoloring.out"
   ]
  },
  {
   "cell_type": "markdown",
   "id": "d123eccc-67e3-489e-80b7-76360388779c",
   "metadata": {},
   "source": [
    "Observe that after adding the minimize statement, the shell still returns all 4 (possibly non-optimal) answer sets.\n",
    "\n",
    "When `opt-on` is issued, it returns the two optimal answer sets.\n",
    "\n",
    "Then, `mark(2,2)` is assumed to be false, and the shell returns other two optimal answer sets.\n",
    "\n",
    "When `opt-off` is executed, the shell returns again the 4 (possibly non-optimal) answer sets."
   ]
  },
  {
   "cell_type": "markdown",
   "id": "3aea67bc-4e3b-4974-a934-22ae71c1904d",
   "metadata": {},
   "source": [
    "## Hints\n",
    "\n",
    "* You can start from the script `clingo-shell.py`.\n",
    "* To print the rules grounded by *clingo*, add option `--output-debug=[text,translate,all]` when you create a new Control object.\n",
    "  For example, use `self._ctl = Control([\"--output-debug=text\")`\n",
    "* To work step-by-step with the file `ncoloring/ncoloring-batch.txt`,\n",
    "  you may want to add a `break` command after the `print(\"Unknown command\")` at the end of the `run()` function.\n",
    "* You can check your script doing a `diff` between the output of `python clingo-shell.py ncoloring/ncoloring-batch.txt` and `ncoloring/ncoloring.out`.\n",
    "* You can parse the commands with Python's `split()` function.\n",
    "  Do not worry about printing nice error messages or warnings.\n",
    "* These are the attributes and functions that we used to implement the shell:\n",
    "  * clingo.symbol.parse_term()\n",
    "  * clingo.symbol.Symbol: \n",
    "    - name, arguments \n",
    "  * clingo.control.Control:\n",
    "    - configuration.solve.models, configuration.solve.enum_mode, configuration.solve.opt_mode\n",
    "    - load(), add(), ground(), solve(), release_external(), assign_external()\n",
    "  * clingo.solving.Model:\n",
    "    - optimality_proven\n",
    "    - symbols()\n",
    "* When you use the functions about externals, make sure that the programs where the externals occur have been grounded beforehand.\n",
    "* Feel free to modify/extend the shell as you wish!"
   ]
  }
 ],
 "metadata": {
  "kernelspec": {
   "display_name": "Python 3 (ipykernel)",
   "language": "python",
   "name": "python3"
  },
  "language_info": {
   "codemirror_mode": {
    "name": "ipython",
    "version": 3
   },
   "file_extension": ".py",
   "mimetype": "text/x-python",
   "name": "python",
   "nbconvert_exporter": "python",
   "pygments_lexer": "ipython3",
   "version": "3.12.3"
  }
 },
 "nbformat": 4,
 "nbformat_minor": 5
}
