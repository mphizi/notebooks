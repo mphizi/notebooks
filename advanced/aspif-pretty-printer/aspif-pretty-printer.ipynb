{
 "cells": [
  {
   "cell_type": "markdown",
   "id": "6d21f9d2-e1e1-49f4-a6b7-4b66d3cc0dfd",
   "metadata": {},
   "source": [
    "# Aspif pretty printing\n",
    "\n",
    "The task of this notebook is to implement a pretty printer for the aspif format of clingo.\n",
    "\n",
    "You can start from the script `aspif_pretty_printer.py`.\n",
    "\n",
    "The classes `AspifPrinter` and `AspifSymbolicPrinter` in that script should implement the interface:\n",
    "* https://potassco.org/clingo/python-api/5.6/clingo/backend.html#clingo.backend.Observer\n",
    "\n",
    "Consider the following example:"
   ]
  },
  {
   "cell_type": "code",
   "execution_count": 1,
   "id": "59b1b0ae-d73a-46ab-bb27-3b5e13f02db9",
   "metadata": {},
   "outputs": [
    {
     "name": "stdout",
     "output_type": "stream",
     "text": [
      "Writing example.lp\n"
     ]
    }
   ],
   "source": [
    "%%file example.lp\n",
    "dom(1..2).\n",
    "\n",
    "a(X) :- dom(X). \n",
    "b(X) :- not a(X), dom(X).\n",
    "\n",
    "{ c(X) } :- dom(X).\n",
    "d(X) :- not c(X), dom(X).\n",
    "\n",
    "  e(X); f(X); g(X)   :- c(X), d(X), dom(X).\n",
    "{ e(X); f(X); g(X) } :- c(X), d(X), dom(X).\n",
    "\n",
    "h :- 1 { e(X); f(X) }.\n",
    "i :- 1 { e(X); f(X) } 1.\n",
    "\n",
    ":- h, i.\n",
    "\n",
    "#show (e(X),f(X),g(X)) : e(X), f(X), g(X).\n",
    "\n",
    "#show c/1. \n",
    "#show d/1. \n",
    "#show e/1. \n",
    "#show f/1. \n",
    "#show g/1.\n",
    "\n",
    "#minimize{ 1@3,X : e(X); 2@3,X : f(X); 3,X : g(X)}.\n",
    "\n",
    "#external j. [true]\n",
    "\n",
    "#heuristic e(X) : c(X). [1,level]\n",
    "\n",
    "#project e/1."
   ]
  },
  {
   "cell_type": "markdown",
   "id": "b5369dc0-32e1-446d-a7e0-60b7738ae815",
   "metadata": {},
   "source": [
    "We can ground the program using option `--mode=gringo`, and we obtain a ground logic program in the aspif format:"
   ]
  },
  {
   "cell_type": "code",
   "execution_count": 2,
   "id": "8d7164c7-0be2-4dde-8bc0-04010d68077c",
   "metadata": {},
   "outputs": [
    {
     "name": "stdout",
     "output_type": "stream",
     "text": [
      "asp 1 0 0\n",
      "1 0 1 1 0 0\n",
      "1 0 1 2 0 0\n",
      "1 1 1 3 0 0\n",
      "1 1 1 4 0 0\n",
      "1 0 1 5 0 1 -3\n",
      "1 0 1 6 0 1 -4\n",
      "1 0 3 7 8 9 0 2 5 3\n",
      "1 0 3 10 11 12 0 2 6 4\n",
      "1 1 3 7 8 9 0 2 5 3\n",
      "1 1 3 10 11 12 0 2 6 4\n",
      "3 1 7\n",
      "3 1 10\n",
      "7 0 7 1 0 1 3\n",
      "7 0 10 1 0 1 4\n",
      "5 13 1\n",
      "1 0 1 14 1 1 4 7 1 10 1 8 1 11 1\n",
      "1 0 1 15 1 2 4 7 1 10 1 8 1 11 1\n",
      "1 0 1 16 0 2 14 -15\n",
      "1 0 1 17 0 1 16\n",
      "1 0 1 18 1 1 4 7 1 10 1 8 1 11 1\n",
      "1 0 1 19 0 1 18\n",
      "1 0 0 0 2 17 19\n",
      "1 0 1 20 0 0\n",
      "1 0 1 21 0 0\n",
      "2 0 2 9 3 12 3\n",
      "2 3 4 8 2 11 2 7 1 10 1\n",
      "4 4 c(1) 1 3\n",
      "4 4 c(2) 1 4\n",
      "4 4 d(1) 1 5\n",
      "4 4 d(2) 1 6\n",
      "4 4 e(1) 1 7\n",
      "4 4 e(2) 1 10\n",
      "4 4 f(1) 1 8\n",
      "4 4 f(2) 1 11\n",
      "4 4 g(1) 1 9\n",
      "4 4 g(2) 1 12\n",
      "1 0 1 22 0 3 7 8 9\n",
      "4 16 (e(1),f(1),g(1)) 1 22\n",
      "1 0 1 23 0 3 10 11 12\n",
      "4 16 (e(2),f(2),g(2)) 1 23\n",
      "0\n"
     ]
    }
   ],
   "source": [
    "! clingo --mode=gringo example.lp"
   ]
  },
  {
   "cell_type": "markdown",
   "id": "8a171248-2095-4404-9ab8-b11695c7ff62",
   "metadata": {},
   "source": [
    "Using our script, we should obtain a more readable version of this program.\n",
    "\n",
    "The output of:"
   ]
  },
  {
   "cell_type": "code",
   "execution_count": null,
   "id": "67d9758f-dffe-46bf-8752-2637b495bfd0",
   "metadata": {},
   "outputs": [],
   "source": [
    "! python aspif_pretty_printer.py example.lp"
   ]
  },
  {
   "cell_type": "markdown",
   "id": "5c1fdb89-24a7-4dbc-8363-3de34eb2cbe3",
   "metadata": {},
   "source": [
    "should look like this:"
   ]
  },
  {
   "cell_type": "markdown",
   "id": "8d91589a-23d2-4893-9f88-23724ae0c5ed",
   "metadata": {},
   "source": [
    "```\n",
    "1.\n",
    "2.\n",
    "{ 3 }.\n",
    "{ 4 }.\n",
    "5 :- -3.\n",
    "6 :- -4.\n",
    "7;8;9 :- 5, 3.\n",
    "10;11;12 :- 6, 4.\n",
    "{ 7; 8; 9 } :- 5, 3.\n",
    "{ 10; 11; 12 } :- 6, 4.\n",
    "#project 7.\n",
    "#project 10.\n",
    "#heuristic 7 : 3. [1@0,level]\n",
    "#heuristic 10 : 4. [1@0,level]\n",
    "#external 13. [true]\n",
    "14 :- 1 { 1:7; 1:10; 1:8; 1:11 }.\n",
    "15 :- 2 { 1:7; 1:10; 1:8; 1:11 }.\n",
    "16 :- 14, -15.\n",
    "17 :- 16.\n",
    "18 :- 1 { 1:7; 1:10; 1:8; 1:11 }.\n",
    "19 :- 18.\n",
    ":- 17, 19.\n",
    "20.\n",
    "21.\n",
    "#minimize{ 3@0:9, 3@0:12 }.\n",
    "#minimize{ 2@3:8, 2@3:11, 1@3:7, 1@3:10 }.\n",
    "#show c(1) : 3.\n",
    "#show c(2) : 4.\n",
    "#show d(1) : 5.\n",
    "#show d(2) : 6.\n",
    "#show e(1) : 7.\n",
    "#show e(2) : 10.\n",
    "#show f(1) : 8.\n",
    "#show f(2) : 11.\n",
    "#show g(1) : 9.\n",
    "#show g(2) : 12.\n",
    "22 :- 7, 8, 9.\n",
    "#show (e(1),f(1),g(1)) : 22.\n",
    "23 :- 10, 11, 12.\n",
    "#show (e(2),f(2),g(2)) : 23.\n",
    "```"
   ]
  },
  {
   "cell_type": "markdown",
   "id": "021a2e05-702d-4d59-825a-0da847d6d0ca",
   "metadata": {},
   "source": [
    "Option `--text` should use the shown atoms to replace their corresponding literals in the program.\n",
    "\n",
    "The result of:"
   ]
  },
  {
   "cell_type": "code",
   "execution_count": null,
   "id": "adf27842-7adc-4639-b401-5c000e49e5fd",
   "metadata": {},
   "outputs": [],
   "source": [
    "! python aspif_pretty_printer.py --text example.lp"
   ]
  },
  {
   "cell_type": "markdown",
   "id": "43e0ae4c-0f6d-482d-b46e-d2caddd6010c",
   "metadata": {},
   "source": [
    "should look like this:"
   ]
  },
  {
   "cell_type": "markdown",
   "id": "73a31c2c-c907-47a6-a35f-57dd8558a9e8",
   "metadata": {},
   "source": [
    "```\n",
    "1.\n",
    "2.\n",
    "{ c(1) }.\n",
    "{ c(2) }.\n",
    "d(1) :- not c(1).\n",
    "d(2) :- not c(2).\n",
    "e(1);f(1);g(1) :- d(1), c(1).\n",
    "e(2);f(2);g(2) :- d(2), c(2).\n",
    "{ e(1); f(1); g(1) } :- d(1), c(1).\n",
    "{ e(2); f(2); g(2) } :- d(2), c(2).\n",
    "16 :- 14, -15.\n",
    "17 :- 16.\n",
    "19 :- 18.\n",
    ":- 17, 19.\n",
    "20.\n",
    "21.\n",
    "22 :- e(1), f(1), g(1).\n",
    "23 :- e(2), f(2), g(2).\n",
    "14 :- 1 { 1:e(1); 1:e(2); 1:f(1); 1:f(2) }.\n",
    "15 :- 2 { 1:e(1); 1:e(2); 1:f(1); 1:f(2) }.\n",
    "18 :- 1 { 1:e(1); 1:e(2); 1:f(1); 1:f(2) }.\n",
    "#external 13. [true]\n",
    "#heuristic e(1) : c(1). [1@0,level]\n",
    "#heuristic e(2) : c(2). [1@0,level]\n",
    "#minimize{ 3@0:g(1), 3@0:g(2) }.\n",
    "#minimize{ 2@3:f(1), 2@3:f(2), 1@3:e(1), 1@3:e(2) }.\n",
    "#show (e(1),f(1),g(1)) : 22.\n",
    "#show (e(2),f(2),g(2)) : 23.\n",
    "#project e(1).\n",
    "#project e(2).\n",
    "```"
   ]
  },
  {
   "cell_type": "markdown",
   "id": "416d0362-a05f-4aa7-85fe-3049bf9d3fb4",
   "metadata": {},
   "source": [
    "Observe how numbers `3` to `12` have been replaced by their corresponding symbolic atoms."
   ]
  }
 ],
 "metadata": {
  "kernelspec": {
   "display_name": "Python 3 (ipykernel)",
   "language": "python",
   "name": "python3"
  },
  "language_info": {
   "codemirror_mode": {
    "name": "ipython",
    "version": 3
   },
   "file_extension": ".py",
   "mimetype": "text/x-python",
   "name": "python",
   "nbconvert_exporter": "python",
   "pygments_lexer": "ipython3",
   "version": "3.12.0"
  }
 },
 "nbformat": 4,
 "nbformat_minor": 5
}
