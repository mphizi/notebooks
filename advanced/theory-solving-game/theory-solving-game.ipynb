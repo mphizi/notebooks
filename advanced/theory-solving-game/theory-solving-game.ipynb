{
 "cells": [
  {
   "cell_type": "markdown",
   "id": "02cd4973-2468-492a-b838-2c102f3385be",
   "metadata": {},
   "source": [
    "# Solving game\n",
    "\n",
    "The task of this notebook is to implement the game of solving ASP programs!\n",
    "\n",
    "This should be done by a propagator that: \n",
    "* profiles the solving process, and\n",
    "* allows the user to make the solving decisions during search\n",
    "\n",
    "You can start from the script `solving-game.py`\n",
    "and follow the instructions attached to the comments.\n",
    "\n",
    "Before you start, we recommend you to read sections 6 and 7 of [1].\n",
    "\n",
    "[1] [Kaminski, R., Romero, J., Schaub, T., & Wanko, P. (2023). How to Build Your Own ASP-based System?! Theory Pract. Log. Program., 23(1), 299–361.](https://www.cs.uni-potsdam.de/wv/publications/DBLP_journals/tplp/KaminskiRSW23.pdf)"
   ]
  },
  {
   "cell_type": "markdown",
   "id": "759a7d72-0da5-4fd2-93b0-6a6b76be0df1",
   "metadata": {},
   "source": [
    "We start with a simple example:"
   ]
  },
  {
   "cell_type": "code",
   "execution_count": 1,
   "id": "f1420aff-8880-467f-a8ba-d38503754397",
   "metadata": {
    "tags": []
   },
   "outputs": [
    {
     "name": "stdout",
     "output_type": "stream",
     "text": [
      "dom(1..2).\n",
      "{ a(X) } :- dom(X).\n",
      "{ b(X) } :- dom(X).\n",
      ":- a(X), not b(X).\n",
      ":- not a(X), b(X)."
     ]
    }
   ],
   "source": [
    "! cat example.lp"
   ]
  },
  {
   "cell_type": "markdown",
   "id": "3c0fab6c-b3a9-47b8-843b-d16d1ba80ec9",
   "metadata": {},
   "source": [
    "The output should look like this (we used our final script to generate the next cell):"
   ]
  },
  {
   "cell_type": "code",
   "execution_count": null,
   "id": "063da51b-dbf7-4419-a5c5-4ca884ddec1a",
   "metadata": {
    "tags": []
   },
   "outputs": [
    {
     "name": "stdout",
     "output_type": "stream",
     "text": [
      "clingo version 5.7.1\n",
      "Reading from example.lp\n",
      "symbol\t\tis_fact\t\tis_external\tprogram_literal\tsolver_literal\n",
      "------------------------------------------------------------------------------\n",
      "dom(1)\t\tTrue\t\tFalse\t\t1\t\t1\n",
      "dom(2)\t\tTrue\t\tFalse\t\t2\t\t1\n",
      "a(1)\t\tFalse\t\tFalse\t\t7\t\t4\n",
      "a(2)\t\tFalse\t\tFalse\t\t8\t\t5\n",
      "b(1)\t\tFalse\t\tFalse\t\t3\t\t2\n",
      "b(2)\t\tFalse\t\tFalse\t\t4\t\t3\n",
      "c(1)\t\tFalse\t\tFalse\t\t5\t\t2\n",
      "c(2)\t\tFalse\t\tFalse\t\t6\t\t3\n",
      "\n",
      "Assignment: \n",
      "  decision_level: 0\n",
      "  has_conflict: False\n",
      "  is_total: False\n",
      "  literals in the assignment: 1 2 3 4 5\n",
      "  trail: 1\n",
      "\n",
      "0:dom(1)_dom(2) (P)\n",
      "Solving...\n",
      "b(1)_c(1) b(2)_c(2) a(1) a(2) ? "
     ]
    }
   ],
   "source": [
    "! python my_solving_game.py example.lp"
   ]
  },
  {
   "cell_type": "markdown",
   "id": "0c43945c-4078-4bda-9b73-63e5d4699cde",
   "metadata": {},
   "source": [
    "The script is interactive, and in the example we have chosen at the first decision point the atom `a(1)`, and in the second one `a(2)`. After that, propagation leads to an answer set.\n",
    "\n",
    "The following command should lead to a similar result:"
   ]
  },
  {
   "cell_type": "code",
   "execution_count": null,
   "id": "8c9c4e2f-d97a-480b-8dd4-663c83a96733",
   "metadata": {
    "tags": []
   },
   "outputs": [],
   "source": [
    "! python solving-agent.py example.lp"
   ]
  }
 ],
 "metadata": {
  "kernelspec": {
   "display_name": "Python 3 (ipykernel)",
   "language": "python",
   "name": "python3"
  },
  "language_info": {
   "codemirror_mode": {
    "name": "ipython",
    "version": 3
   },
   "file_extension": ".py",
   "mimetype": "text/x-python",
   "name": "python",
   "nbconvert_exporter": "python",
   "pygments_lexer": "ipython3",
   "version": "3.12.3"
  }
 },
 "nbformat": 4,
 "nbformat_minor": 5
}
